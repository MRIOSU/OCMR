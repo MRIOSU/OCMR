{
 "cells": [
  {
   "cell_type": "markdown",
   "metadata": {},
   "source": [
    "# OCMR Tutorial"
   ]
  },
  {
   "cell_type": "markdown",
   "metadata": {},
   "source": [
    "This is a tutorial to read the k-space from OCMR datasets. The tutorial includes a brief instrucion to <b>install ISMRMRD libraries (1) </b>, <b>filter and download OCMR data (2)</b>, <b>an example of reading k-space from OCMR data (3)</b> and <b>the code to reconstruct fully sampled OCMR datasets (4)</b>. Before running the example, please make sure 'ismrmrd-python' and 'ismrmrd-python-tools' have been installed sucessfully. The example demonstrates how to read k-space from 'us_0165_pt_1_5T.h5', which is a prosective undersampled patient dataset (6-slices LAX stack), collected on Siemens 1.5T Sola scanner. The code is tested using 'Anaconda3->Jupyter Lab 1.2.6'. "
   ]
  },
  {
   "cell_type": "markdown",
   "metadata": {},
   "source": [
    "## 1. Install ISMRMRD libraries"
   ]
  },
  {
   "cell_type": "markdown",
   "metadata": {},
   "source": [
    "> ### Linux\n",
    "> #### Install ismrmrd-python https://github.com/ismrmrd/ismrmrd-python"
   ]
  },
  {
   "cell_type": "code",
   "execution_count": 1,
   "metadata": {
    "scrolled": true
   },
   "outputs": [
    {
     "name": "stdout",
     "output_type": "stream",
     "text": [
      "ismrmrd                            1.6.6              \n"
     ]
    }
   ],
   "source": [
    "%%bash\n",
    "if [ $(pip list --disable-pip-version-check | grep -c -w 'ismrmrd ') == 0 ] \n",
    "then \n",
    "    git clone https://github.com/ismrmrd/ismrmrd-python.git /var/tmp/ismrmrd-python\n",
    "    python -m pip install --disable-pip-version-check -r /var/tmp/ismrmrd-python/requirements.txt\n",
    "    python -m pip install --disable-pip-version-check /var/tmp/ismrmrd-python\n",
    "    rm -rf /var/tmp/ismrmrd-python\n",
    "fi\n",
    "pip list --disable-pip-version-check | grep -w 'ismrmrd '"
   ]
  },
  {
   "cell_type": "markdown",
   "metadata": {},
   "source": [
    "> #### Install ismrmrd-python-tools https://github.com/ismrmrd/ismrmrd-python-tools "
   ]
  },
  {
   "cell_type": "code",
   "execution_count": 2,
   "metadata": {
    "scrolled": true
   },
   "outputs": [
    {
     "name": "stdout",
     "output_type": "stream",
     "text": [
      "ismrmrd-python-tools               0.3                \n"
     ]
    }
   ],
   "source": [
    "%%bash\n",
    "if [ $(pip list --disable-pip-version-check | grep -c -w 'ismrmrd-python-tools ') == 0 ] \n",
    "then \n",
    "    git clone https://github.com/ismrmrd/ismrmrd-python-tools.git /var/tmp/ismrmrd-python-tools\n",
    "    python -m pip install --disable-pip-version-check /var/tmp/ismrmrd-python-tools\n",
    "    rm -rf /var/tmp/ismrmrd-python-tools\n",
    "fi\n",
    "pip list --disable-pip-version-check | grep -w 'ismrmrd-python-tools '"
   ]
  },
  {
   "cell_type": "markdown",
   "metadata": {},
   "source": [
    "> #### Download the \"read_ocmr.py script\" and \"ocmr_data_attributes.csv\""
   ]
  },
  {
   "cell_type": "code",
   "execution_count": null,
   "metadata": {},
   "outputs": [],
   "source": [
    "%%bash\n",
    "wget https://raw.githubusercontent.com/MRIOSU/OCMR/master/Python/read_ocmr.py\n",
    "wget https://raw.githubusercontent.com/MRIOSU/OCMR/master/ocmr_data_attributes.csv"
   ]
  },
  {
   "cell_type": "markdown",
   "metadata": {},
   "source": [
    "> ### Windows\n",
    "> #### Install ismrmrd-python https://github.com/ismrmrd/ismrmrd-python"
   ]
  },
  {
   "cell_type": "code",
   "execution_count": 1,
   "metadata": {},
   "outputs": [
    {
     "name": "stdout",
     "output_type": "stream",
     "text": [
      "ismrmrd                            1.6.6              \n"
     ]
    }
   ],
   "source": [
    "tmp = !pip list --disable-pip-version-check | findstr /c:\"ismrmrd \"\n",
    "if not tmp:\n",
    "    !git clone https://github.com/ismrmrd/ismrmrd-python.git ./tmp_ismrmrd-python\n",
    "    !python -m pip install --disable-pip-version-check -r ./tmp_ismrmrd-python/requirements.txt\n",
    "    !python -m pip install --disable-pip-version-check ./tmp_ismrmrd-python\n",
    "    %rmdir /s /q tmp_ismrmrd-python\n",
    "!pip list --disable-pip-version-check | findstr /c:\"ismrmrd \""
   ]
  },
  {
   "cell_type": "markdown",
   "metadata": {},
   "source": [
    "> #### Install ismrmrd-python-tools https://github.com/ismrmrd/ismrmrd-python-tools "
   ]
  },
  {
   "cell_type": "code",
   "execution_count": 2,
   "metadata": {},
   "outputs": [
    {
     "name": "stdout",
     "output_type": "stream",
     "text": [
      "ismrmrd-python-tools               0.3                \n"
     ]
    }
   ],
   "source": [
    "tmp = !pip list --disable-pip-version-check | findstr \"ismrmrd-python-tools \"\n",
    "if not tmp:\n",
    "    !git clone https://github.com/ismrmrd/ismrmrd-python-tools.git ./tmp_ismrmrd-python-tools\n",
    "    !python -m pip install --disable-pip-version-check ./tmp_ismrmrd-python-tools\n",
    "    %rmdir /s /q tmp_ismrmrd-python-tools\n",
    "!pip list --disable-pip-version-check | findstr \"ismrmrd-python-tools \""
   ]
  },
  {
   "cell_type": "markdown",
   "metadata": {},
   "source": [
    "> #### Download the \"read_ocmr.py script\" and \"ocmr_data_attributes.csv\""
   ]
  },
  {
   "cell_type": "code",
   "execution_count": null,
   "metadata": {},
   "outputs": [],
   "source": [
    "!wget --no-check-certificate https://raw.githubusercontent.com/MRIOSU/OCMR/master/Python/read_ocmr.py\n",
    "!wget --no-check-certificate https://raw.githubusercontent.com/MRIOSU/OCMR/master/ocmr_data_attributes.csv"
   ]
  },
  {
   "cell_type": "markdown",
   "metadata": {},
   "source": [
    "## 2. Finding and Downloading OCMR Data Files"
   ]
  },
  {
   "cell_type": "markdown",
   "metadata": {},
   "source": [
    "The 'ocmr_data_attributes.csv' file (also avaible in the root of the S3 ocmr bucket https://ocmr.s3.us-east-2.amazonaws.com/ocmr_data_attributes.csv) contains a catalog of h5 files and their characteristics. The example below uses the pandas library to load this list and filter by 'file name', 'scn', and 'viw', then download each file in the filtered list using the AWS python SDK (boto3)."
   ]
  },
  {
   "cell_type": "markdown",
   "metadata": {},
   "source": [
    "### Install the latest version of pandas "
   ]
  },
  {
   "cell_type": "code",
   "execution_count": null,
   "metadata": {},
   "outputs": [],
   "source": [
    "!python -m pip install --upgrade pandas\n",
    "#!python -m pip list --disable-pip-version-check | grep -w 'pandas '\n",
    "import pandas"
   ]
  },
  {
   "cell_type": "markdown",
   "metadata": {},
   "source": [
    "### Load the ocmr_data_attributes file into a pandas DataFrame"
   ]
  },
  {
   "cell_type": "code",
   "execution_count": 5,
   "metadata": {},
   "outputs": [
    {
     "data": {
      "text/html": [
       "<div>\n",
       "<style scoped>\n",
       "    .dataframe tbody tr th:only-of-type {\n",
       "        vertical-align: middle;\n",
       "    }\n",
       "\n",
       "    .dataframe tbody tr th {\n",
       "        vertical-align: top;\n",
       "    }\n",
       "\n",
       "    .dataframe thead th {\n",
       "        text-align: right;\n",
       "    }\n",
       "</style>\n",
       "<table border=\"1\" class=\"dataframe\">\n",
       "  <thead>\n",
       "    <tr style=\"text-align: right;\">\n",
       "      <th></th>\n",
       "      <th>file name</th>\n",
       "      <th>scn</th>\n",
       "      <th>smp</th>\n",
       "      <th>ech</th>\n",
       "      <th>dur</th>\n",
       "      <th>viw</th>\n",
       "      <th>sli</th>\n",
       "      <th>fov</th>\n",
       "      <th>sub</th>\n",
       "      <th>slices</th>\n",
       "    </tr>\n",
       "  </thead>\n",
       "  <tbody>\n",
       "    <tr>\n",
       "      <th>0</th>\n",
       "      <td>fs_0001_1_5T.h5</td>\n",
       "      <td>15avan</td>\n",
       "      <td>fs</td>\n",
       "      <td>asy</td>\n",
       "      <td>shr</td>\n",
       "      <td>lax</td>\n",
       "      <td>ind</td>\n",
       "      <td>noa</td>\n",
       "      <td>vol</td>\n",
       "      <td>1.0</td>\n",
       "    </tr>\n",
       "    <tr>\n",
       "      <th>1</th>\n",
       "      <td>fs_0002_1_5T.h5</td>\n",
       "      <td>15avan</td>\n",
       "      <td>fs</td>\n",
       "      <td>asy</td>\n",
       "      <td>shr</td>\n",
       "      <td>lax</td>\n",
       "      <td>ind</td>\n",
       "      <td>noa</td>\n",
       "      <td>vol</td>\n",
       "      <td>1.0</td>\n",
       "    </tr>\n",
       "    <tr>\n",
       "      <th>2</th>\n",
       "      <td>fs_0003_1_5T.h5</td>\n",
       "      <td>15avan</td>\n",
       "      <td>fs</td>\n",
       "      <td>asy</td>\n",
       "      <td>shr</td>\n",
       "      <td>lax</td>\n",
       "      <td>ind</td>\n",
       "      <td>noa</td>\n",
       "      <td>vol</td>\n",
       "      <td>1.0</td>\n",
       "    </tr>\n",
       "    <tr>\n",
       "      <th>3</th>\n",
       "      <td>fs_0004_1_5T.h5</td>\n",
       "      <td>15avan</td>\n",
       "      <td>fs</td>\n",
       "      <td>asy</td>\n",
       "      <td>shr</td>\n",
       "      <td>sax</td>\n",
       "      <td>ind</td>\n",
       "      <td>noa</td>\n",
       "      <td>vol</td>\n",
       "      <td>1.0</td>\n",
       "    </tr>\n",
       "    <tr>\n",
       "      <th>4</th>\n",
       "      <td>fs_0005_1_5T.h5</td>\n",
       "      <td>15avan</td>\n",
       "      <td>fs</td>\n",
       "      <td>asy</td>\n",
       "      <td>shr</td>\n",
       "      <td>sax</td>\n",
       "      <td>ind</td>\n",
       "      <td>noa</td>\n",
       "      <td>vol</td>\n",
       "      <td>1.0</td>\n",
       "    </tr>\n",
       "    <tr>\n",
       "      <th>5</th>\n",
       "      <td>fs_0006_1_5T.h5</td>\n",
       "      <td>15avan</td>\n",
       "      <td>fs</td>\n",
       "      <td>asy</td>\n",
       "      <td>shr</td>\n",
       "      <td>sax</td>\n",
       "      <td>ind</td>\n",
       "      <td>noa</td>\n",
       "      <td>vol</td>\n",
       "      <td>1.0</td>\n",
       "    </tr>\n",
       "    <tr>\n",
       "      <th>6</th>\n",
       "      <td>fs_0007_1_5T.h5</td>\n",
       "      <td>15avan</td>\n",
       "      <td>fs</td>\n",
       "      <td>sym</td>\n",
       "      <td>shr</td>\n",
       "      <td>lax</td>\n",
       "      <td>ind</td>\n",
       "      <td>noa</td>\n",
       "      <td>vol</td>\n",
       "      <td>1.0</td>\n",
       "    </tr>\n",
       "    <tr>\n",
       "      <th>7</th>\n",
       "      <td>fs_0008_1_5T.h5</td>\n",
       "      <td>15avan</td>\n",
       "      <td>fs</td>\n",
       "      <td>sym</td>\n",
       "      <td>shr</td>\n",
       "      <td>lax</td>\n",
       "      <td>ind</td>\n",
       "      <td>noa</td>\n",
       "      <td>vol</td>\n",
       "      <td>1.0</td>\n",
       "    </tr>\n",
       "    <tr>\n",
       "      <th>8</th>\n",
       "      <td>fs_0009_1_5T.h5</td>\n",
       "      <td>15avan</td>\n",
       "      <td>fs</td>\n",
       "      <td>sym</td>\n",
       "      <td>shr</td>\n",
       "      <td>sax</td>\n",
       "      <td>ind</td>\n",
       "      <td>noa</td>\n",
       "      <td>vol</td>\n",
       "      <td>1.0</td>\n",
       "    </tr>\n",
       "    <tr>\n",
       "      <th>9</th>\n",
       "      <td>fs_0010_1_5T.h5</td>\n",
       "      <td>15avan</td>\n",
       "      <td>fs</td>\n",
       "      <td>sym</td>\n",
       "      <td>shr</td>\n",
       "      <td>sax</td>\n",
       "      <td>ind</td>\n",
       "      <td>noa</td>\n",
       "      <td>vol</td>\n",
       "      <td>1.0</td>\n",
       "    </tr>\n",
       "  </tbody>\n",
       "</table>\n",
       "</div>"
      ],
      "text/plain": [
       "         file name     scn smp  ech  dur  viw  sli  fov  sub  slices\n",
       "0  fs_0001_1_5T.h5  15avan  fs  asy  shr  lax  ind  noa  vol     1.0\n",
       "1  fs_0002_1_5T.h5  15avan  fs  asy  shr  lax  ind  noa  vol     1.0\n",
       "2  fs_0003_1_5T.h5  15avan  fs  asy  shr  lax  ind  noa  vol     1.0\n",
       "3  fs_0004_1_5T.h5  15avan  fs  asy  shr  sax  ind  noa  vol     1.0\n",
       "4  fs_0005_1_5T.h5  15avan  fs  asy  shr  sax  ind  noa  vol     1.0\n",
       "5  fs_0006_1_5T.h5  15avan  fs  asy  shr  sax  ind  noa  vol     1.0\n",
       "6  fs_0007_1_5T.h5  15avan  fs  sym  shr  lax  ind  noa  vol     1.0\n",
       "7  fs_0008_1_5T.h5  15avan  fs  sym  shr  lax  ind  noa  vol     1.0\n",
       "8  fs_0009_1_5T.h5  15avan  fs  sym  shr  sax  ind  noa  vol     1.0\n",
       "9  fs_0010_1_5T.h5  15avan  fs  sym  shr  sax  ind  noa  vol     1.0"
      ]
     },
     "execution_count": 5,
     "metadata": {},
     "output_type": "execute_result"
    }
   ],
   "source": [
    "# NOTE: Change this to the S3 location when finalized\n",
    "ocmr_data_attributes_location = './ocmr_data_attributes.csv'\n",
    "\n",
    "df = pandas.read_csv('./ocmr_data_attributes.csv')\n",
    "# Cleanup empty rows and columns\n",
    "df.dropna(how='all', axis=0, inplace=True)\n",
    "df.dropna(how='all', axis=1, inplace=True)\n",
    "\n",
    "# Show the first 10 items in the list\n",
    "df.head(10)"
   ]
  },
  {
   "cell_type": "markdown",
   "metadata": {},
   "source": [
    " ### Filter the files based on their attributes"
   ]
  },
  {
   "cell_type": "code",
   "execution_count": 6,
   "metadata": {},
   "outputs": [
    {
     "data": {
      "text/html": [
       "<div>\n",
       "<style scoped>\n",
       "    .dataframe tbody tr th:only-of-type {\n",
       "        vertical-align: middle;\n",
       "    }\n",
       "\n",
       "    .dataframe tbody tr th {\n",
       "        vertical-align: top;\n",
       "    }\n",
       "\n",
       "    .dataframe thead th {\n",
       "        text-align: right;\n",
       "    }\n",
       "</style>\n",
       "<table border=\"1\" class=\"dataframe\">\n",
       "  <thead>\n",
       "    <tr style=\"text-align: right;\">\n",
       "      <th></th>\n",
       "      <th>file name</th>\n",
       "      <th>scn</th>\n",
       "      <th>smp</th>\n",
       "      <th>ech</th>\n",
       "      <th>dur</th>\n",
       "      <th>viw</th>\n",
       "      <th>sli</th>\n",
       "      <th>fov</th>\n",
       "      <th>sub</th>\n",
       "      <th>slices</th>\n",
       "    </tr>\n",
       "  </thead>\n",
       "  <tbody>\n",
       "    <tr>\n",
       "      <th>0</th>\n",
       "      <td>fs_0001_1_5T.h5</td>\n",
       "      <td>15avan</td>\n",
       "      <td>fs</td>\n",
       "      <td>asy</td>\n",
       "      <td>shr</td>\n",
       "      <td>lax</td>\n",
       "      <td>ind</td>\n",
       "      <td>noa</td>\n",
       "      <td>vol</td>\n",
       "      <td>1.0</td>\n",
       "    </tr>\n",
       "    <tr>\n",
       "      <th>1</th>\n",
       "      <td>fs_0002_1_5T.h5</td>\n",
       "      <td>15avan</td>\n",
       "      <td>fs</td>\n",
       "      <td>asy</td>\n",
       "      <td>shr</td>\n",
       "      <td>lax</td>\n",
       "      <td>ind</td>\n",
       "      <td>noa</td>\n",
       "      <td>vol</td>\n",
       "      <td>1.0</td>\n",
       "    </tr>\n",
       "    <tr>\n",
       "      <th>2</th>\n",
       "      <td>fs_0003_1_5T.h5</td>\n",
       "      <td>15avan</td>\n",
       "      <td>fs</td>\n",
       "      <td>asy</td>\n",
       "      <td>shr</td>\n",
       "      <td>lax</td>\n",
       "      <td>ind</td>\n",
       "      <td>noa</td>\n",
       "      <td>vol</td>\n",
       "      <td>1.0</td>\n",
       "    </tr>\n",
       "    <tr>\n",
       "      <th>6</th>\n",
       "      <td>fs_0007_1_5T.h5</td>\n",
       "      <td>15avan</td>\n",
       "      <td>fs</td>\n",
       "      <td>sym</td>\n",
       "      <td>shr</td>\n",
       "      <td>lax</td>\n",
       "      <td>ind</td>\n",
       "      <td>noa</td>\n",
       "      <td>vol</td>\n",
       "      <td>1.0</td>\n",
       "    </tr>\n",
       "    <tr>\n",
       "      <th>7</th>\n",
       "      <td>fs_0008_1_5T.h5</td>\n",
       "      <td>15avan</td>\n",
       "      <td>fs</td>\n",
       "      <td>sym</td>\n",
       "      <td>shr</td>\n",
       "      <td>lax</td>\n",
       "      <td>ind</td>\n",
       "      <td>noa</td>\n",
       "      <td>vol</td>\n",
       "      <td>1.0</td>\n",
       "    </tr>\n",
       "  </tbody>\n",
       "</table>\n",
       "</div>"
      ],
      "text/plain": [
       "         file name     scn smp  ech  dur  viw  sli  fov  sub  slices\n",
       "0  fs_0001_1_5T.h5  15avan  fs  asy  shr  lax  ind  noa  vol     1.0\n",
       "1  fs_0002_1_5T.h5  15avan  fs  asy  shr  lax  ind  noa  vol     1.0\n",
       "2  fs_0003_1_5T.h5  15avan  fs  asy  shr  lax  ind  noa  vol     1.0\n",
       "6  fs_0007_1_5T.h5  15avan  fs  sym  shr  lax  ind  noa  vol     1.0\n",
       "7  fs_0008_1_5T.h5  15avan  fs  sym  shr  lax  ind  noa  vol     1.0"
      ]
     },
     "execution_count": 6,
     "metadata": {},
     "output_type": "execute_result"
    }
   ],
   "source": [
    "# This is a sample query that filters on file names that contain \"fs_\", scn equals \"15avan\", and viw equals \"lax\" \n",
    "# (i.e. fully sampled, LAX view, collected on 1.5T Avanto)\n",
    "selected_df = df.query ('`file name`.str.contains(\"fs_\") and scn==\"15avan\" and viw==\"lax\"', engine='python')\n",
    "selected_df"
   ]
  },
  {
   "cell_type": "markdown",
   "metadata": {},
   "source": [
    "### Install the latest version of AWS Python SDK (boto3)"
   ]
  },
  {
   "cell_type": "code",
   "execution_count": 7,
   "metadata": {},
   "outputs": [],
   "source": [
    "!python -m pip install --disable-pip-version-check -qq --upgrade boto3\n",
    "#!python -m pip list --disable-pip-version-check | grep -w 'boto3 '\n",
    "import boto3\n",
    "from botocore import UNSIGNED\n",
    "from botocore.client import Config"
   ]
  },
  {
   "cell_type": "markdown",
   "metadata": {},
   "source": [
    " ### Download each file from S3"
   ]
  },
  {
   "cell_type": "code",
   "execution_count": 8,
   "metadata": {},
   "outputs": [
    {
     "name": "stdout",
     "output_type": "stream",
     "text": [
      "Downloading fs_0001_1_5T.h5 to ./ocmr_data (File 1 of 5)\n",
      "Downloading fs_0002_1_5T.h5 to ./ocmr_data (File 2 of 5)\n",
      "Downloading fs_0003_1_5T.h5 to ./ocmr_data (File 3 of 5)\n",
      "Downloading fs_0007_1_5T.h5 to ./ocmr_data (File 4 of 5)\n",
      "Downloading fs_0008_1_5T.h5 to ./ocmr_data (File 5 of 5)\n"
     ]
    }
   ],
   "source": [
    "import os\n",
    "\n",
    "# The local path where the files will be downloaded to\n",
    "download_path = './ocmr_data'\n",
    "\n",
    "# Replace this with the name of the OCMR S3 bucket \n",
    "bucket_name = 'ocmr'\n",
    "\n",
    "if not os.path.exists(download_path):\n",
    "    os.makedirs(download_path)\n",
    "    \n",
    "count=1\n",
    "s3_client = boto3.client('s3', config=Config(signature_version=UNSIGNED))\n",
    "\n",
    "# Iterate through each row in the filtered DataFrame and download the file from S3. \n",
    "# Note: Test after finalizing data in S3 bucket\n",
    "for index, row in selected_df.iterrows():\n",
    "    print('Downloading {} to {} (File {} of {})'.format(row['file name'], download_path, count, len(selected_df)))\n",
    "    s3_client.download_file(bucket_name, 'data/{}'.format(row['file name']), '{}/{}'.format(download_path,row['file name']))\n",
    "    count+=1"
   ]
  },
  {
   "cell_type": "markdown",
   "metadata": {},
   "source": [
    "## 3. An example of reading k-space from OCMR data"
   ]
  },
  {
   "cell_type": "markdown",
   "metadata": {},
   "source": [
    "Before running the example, please make sure ismrmrd-python and ismrmrd-python tools have been installed sucessfully. The example undersampled dataset 'us_0165_pt_1_5T.h5' can be downloaded here: https://ocmr.s3.us-east-2.amazonaws.com/data/us_0165_pt_1_5T.h5. \n",
    "### Import the required libraries"
   ]
  },
  {
   "cell_type": "code",
   "execution_count": 9,
   "metadata": {},
   "outputs": [],
   "source": [
    "# import required library\n",
    "import numpy as np\n",
    "import matplotlib.pyplot as plt\n",
    "import math\n",
    "\n",
    "from ismrmrdtools import show, transform\n",
    "\n",
    "# import ReadWrapper\n",
    "import read_ocmr as read"
   ]
  },
  {
   "cell_type": "markdown",
   "metadata": {},
   "source": [
    "### Read k-space from h5 file and display scan parameters\n",
    " Modify 'filename' as needed. Once the data is read using readwrapper (read_ismrmrd.py), it yields two outputs. The first one is k-space, whose dimension is fixed as:  [ kx, ky, kz ,coil, phase, set, slice, repetation, average ].Anothor one is'param', which includes some basic parameters of the scan, such as field of view (FOV, mm), temporal resolution (TRes, ms), flip angle (fligAngle_deg, degress). Note, the readout dimension includes a factor of two oversampling, leading to FOV(1) that is twice the value selected on the scanner."
   ]
  },
  {
   "cell_type": "code",
   "execution_count": 10,
   "metadata": {},
   "outputs": [
    {
     "name": "stdout",
     "output_type": "stream",
     "text": [
      "Imaging acquisition starts acq  32\n",
      "Dimension of kData:  (352, 126, 1, 24, 30, 1, 6, 1, 1)\n",
      "Scan paramters:\n",
      "{'FOV': [800.0, 306.220093, 7.0],\n",
      " 'TE': '[1.19]',\n",
      " 'TI': '[300.0]',\n",
      " 'TRes': '[49.32]',\n",
      " 'echo_spacing': '[2.74]',\n",
      " 'flipAngle_deg': '[80.0]',\n",
      " 'kspace_dim': {'kx ky kz coil phase set slice rep avg'},\n",
      " 'sequence_type': 'SSFP'}\n"
     ]
    }
   ],
   "source": [
    "# Load the data, display size of kData and scan parmaters\n",
    "filename = './ocmr_data/us_0165_pt_1_5T.h5'\n",
    "kData,param = read.read_ocmr(filename);\n",
    "\n",
    "print('Dimension of kData: ', kData.shape)\n",
    "print('Scan paramters:')\n",
    "import pprint; pprint.pprint(param)"
   ]
  },
  {
   "cell_type": "markdown",
   "metadata": {},
   "source": [
    "### Display the sampling pattern\n",
    "Modify 'slc_idx' as needed. The default value is the central slice. As shown in the following figure, this dataset is prospective undersampled with pseudo-random\n",
    "sampling and assymetry echo on."
   ]
  },
  {
   "cell_type": "code",
   "execution_count": 11,
   "metadata": {},
   "outputs": [
    {
     "data": {
      "image/png": "[encoded data removed]",
      "text/plain": [
       "<Figure size 432x288 with 2 Axes>"
      ]
     },
     "metadata": {
      "needs_background": "light"
     },
     "output_type": "display_data"
    }
   ],
   "source": [
    "# Show the sampling Pattern\n",
    "# kData_tmp-[kx,ky,kz,coil,phase,set,slice,rep], samp-[kx,ky,kz,phase,set,slice,rep]\n",
    "dim_kData = kData.shape; CH = dim_kData[3]; SLC = dim_kData[6]; \n",
    "kData_tmp = np.mean(kData, axis = 8); # average the k-space if average > 1\n",
    "samp = (abs(np.mean(kData_tmp, axis = 3)) > 0).astype(np.int) # kx ky kz phase set slice\n",
    "\n",
    "slc_idx = math.floor(SLC/2);\n",
    "fig1 = plt.figure(1); fig1.suptitle(\"Sampling Pattern\", fontsize=14);\n",
    "plt.subplot2grid((1, 8), (0, 0), colspan=6);\n",
    "tmp = plt.imshow(np.transpose(np.squeeze(samp[:,:,0,0,0,slc_idx])), aspect= 'auto');\n",
    "plt.xlabel('kx');plt.ylabel('ky'); tmp.set_clim(0.0,1.0) # ky by kx\n",
    "plt.subplot2grid((1, 9), (0, 7),colspan=2);\n",
    "tmp = plt.imshow(np.squeeze(samp[int(dim_kData[0]/2),:,0,:,0,slc_idx]),aspect= 'auto'); \n",
    "plt.xlabel('frame');plt.yticks([]); tmp.set_clim(0.0, 1.0) # ky by frame"
   ]
  },
  {
   "cell_type": "markdown",
   "metadata": {},
   "source": [
    "### Display the time averaged image\n",
    "Time averaged image of the central slice, where the coil images are combined using SOS(sum of square.)"
   ]
  },
  {
   "cell_type": "code",
   "execution_count": 12,
   "metadata": {},
   "outputs": [
    {
     "data": {
      "image/png": "[encoded data removed]",
      "text/plain": [
       "<Figure size 432x288 with 1 Axes>"
      ]
     },
     "metadata": {
      "needs_background": "light"
     },
     "output_type": "display_data"
    }
   ],
   "source": [
    "# Average the k-sapce along phase(time) dimension\n",
    "kData_sl = kData_tmp[:,:,:,:,:,:,slc_idx,0];\n",
    "samp_avg =  np.repeat(np.sum(samp[:,:,:,:,:,slc_idx,0],3), CH, axis=3) + np.finfo(float).eps\n",
    "kData_sl_avg = np.divide(np.squeeze(np.sum(kData_sl,4)), np.squeeze(samp_avg));\n",
    "\n",
    "im_avg = transform.transform_kspace_to_image(kData_sl_avg, [0,1]); # IFFT (2D image)\n",
    "im = np.sqrt(np.sum(np.abs(im_avg) ** 2, 2)) # Sum of Square\n",
    "fig2 = plt.figure(1); plt.imshow(np.transpose(im), vmin=0, vmax=0.8*np.amax(im), cmap = 'gray'); plt.axis('off'); # Show the image"
   ]
  },
  {
   "cell_type": "markdown",
   "metadata": {},
   "source": [
    "## 4. Reconstruct fully sampled OCMR datasets"
   ]
  },
  {
   "cell_type": "markdown",
   "metadata": {},
   "source": [
    "### Read the OCMR dataset\n",
    "Modify 'filename' as needed. The example fully sampled dataset 'fs_0005_1_5T.h5' can be downloaded here: https://ocmr.s3.us-east-2.amazonaws.com/data/fs_0005_1_5T.h5."
   ]
  },
  {
   "cell_type": "code",
   "execution_count": 13,
   "metadata": {},
   "outputs": [
    {
     "name": "stdout",
     "output_type": "stream",
     "text": [
      "Imaging acquisition starts acq  0\n",
      "Dimension of kData:  (512, 208, 1, 18, 18, 1, 1, 1, 1)\n"
     ]
    }
   ],
   "source": [
    "import numpy as np\n",
    "import matplotlib.pyplot as plt\n",
    "import math\n",
    "\n",
    "from ismrmrdtools import show, transform\n",
    "# import ReadWrapper\n",
    "import read_ocmr as read\n",
    "\n",
    "# Load the data, display size of kData and scan parmaters\n",
    "filename = './ocmr_data/fs_0005_1_5T.h5'\n",
    "kData,param = read.read_ocmr(filename);\n",
    "print('Dimension of kData: ', kData.shape)"
   ]
  },
  {
   "cell_type": "markdown",
   "metadata": {},
   "source": [
    "### Inverse FFT, Sum of Square (SoS) coil combination, Remove RO oversampling\n",
    "<b>im_sos</b> and <b>image</b> are the reconstruced cardiac cine images, with and without readout oversampling, respectively."
   ]
  },
  {
   "cell_type": "code",
   "execution_count": 14,
   "metadata": {},
   "outputs": [
    {
     "name": "stdout",
     "output_type": "stream",
     "text": [
      "Dimension of Image (with ReadOut ovesampling):  (512, 208, 1, 18, 1, 1, 1)\n",
      "Dimension of Image (without ReadOout ovesampling):  (256, 208, 1, 18, 1, 1, 1)\n"
     ]
    }
   ],
   "source": [
    "# Image reconstruction (SoS)\n",
    "dim_kData = kData.shape; CH = dim_kData[3]; SLC = dim_kData[6]; \n",
    "kData_tmp = np.mean(kData, axis = 8); # average the k-space if average > 1\n",
    "\n",
    "im_coil = transform.transform_kspace_to_image(kData_tmp, [0,1]); # IFFT (2D image)\n",
    "im_sos = np.sqrt(np.sum(np.abs(im_coil) ** 2, 3)); # Sum of Square\n",
    "print('Dimension of Image (with ReadOut ovesampling): ', im_sos.shape)\n",
    "RO = im_sos.shape[0];\n",
    "image = im_sos[math.floor(RO/4):math.floor(RO/4*3),:,:]; # Remove RO oversampling\n",
    "print('Dimension of Image (without ReadOout ovesampling): ', image.shape)"
   ]
  },
  {
   "cell_type": "markdown",
   "metadata": {},
   "source": [
    "### Display the reconstructed cine image (central slice)"
   ]
  },
  {
   "cell_type": "code",
   "execution_count": 15,
   "metadata": {},
   "outputs": [
    {
     "data": {
      "image/png": "[encoded data removed]",
      "text/plain": [
       "<Figure size 432x288 with 1 Axes>"
      ]
     },
     "metadata": {
      "needs_background": "light"
     },
     "output_type": "display_data"
    }
   ],
   "source": [
    "# Show the reconstructed cine image\n",
    "from IPython.display import clear_output\n",
    "import time\n",
    "\n",
    "slc_idx = math.floor(SLC/2);\n",
    "print(slc_idx)\n",
    "image_slc = np.squeeze(image[:,:,:,:,:,:,slc_idx]);\n",
    "for rep in range(5): # repeate the movie for 5 times\n",
    "    for frame in range(image_slc.shape[2]):\n",
    "      clear_output(wait=True)\n",
    "      plt.imshow(image_slc[:,:,frame], vmin=0, vmax=0.6*np.amax(image_slc), cmap = 'gray'); plt.axis('off');\n",
    "      plt.show() \n",
    "      time.sleep(0.03)"
   ]
  }
 ],
 "metadata": {
  "kernelspec": {
   "display_name": "Python 3",
   "language": "python",
   "name": "python3"
  },
  "language_info": {
   "codemirror_mode": {
    "name": "ipython",
    "version": 3
   },
   "file_extension": ".py",
   "mimetype": "text/x-python",
   "name": "python",
   "nbconvert_exporter": "python",
   "pygments_lexer": "ipython3",
   "version": "3.7.6"
  }
 },
 "nbformat": 4,
 "nbformat_minor": 4
}
